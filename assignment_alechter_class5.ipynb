{
 "cells": [
  {
   "cell_type": "markdown",
   "metadata": {},
   "source": [
    "### DO NOT RUN ALL\n",
    "\n",
    "The model creation cell takes half an hour to run.\n",
    "\n",
    "Instead, just begin by loading the oosdf.csv and taking it from there (the model is there)\n",
    "\n",
    "**Student Name: Adrian Lechter**"
   ]
  },
  {
   "cell_type": "markdown",
   "metadata": {},
   "source": [
    "### Do you want to run with oosdf?\n",
    "\n",
    "yes or no?\n"
   ]
  },
  {
   "cell_type": "code",
   "execution_count": 1,
   "metadata": {},
   "outputs": [],
   "source": [
    "Answer = 'Yes'"
   ]
  },
  {
   "cell_type": "code",
   "execution_count": 2,
   "metadata": {},
   "outputs": [],
   "source": [
    "import base64\n",
    "import os\n",
    "import numpy as np\n",
    "import pandas as pd\n",
    "import requests\n",
    "\n",
    "# This function submits an assignment.  You can submit an assignment as much as you like, only the final\n",
    "# submission counts.  The paramaters are as follows:\n",
    "# data - Pandas dataframe output.\n",
    "# key - Your student key that was emailed to you.\n",
    "# no - The assignment class number, should be 1 through 1.\n",
    "# source_file - The full path to your Python or IPYNB file.  This must have \"_class1\" as part of its name.  \n",
    "# .             The number must match your assignment number.  For example \"_class2\" for class assignment #2.\n",
    "def submit(data,key,no,source_file=None):\n",
    "    if source_file is None and '__file__' not in globals(): raise Exception('Must specify a filename when a Jupyter notebook.')\n",
    "    if source_file is None: source_file = __file__\n",
    "    suffix = '_class{}'.format(no)\n",
    "    if suffix not in source_file: raise Exception('{} must be part of the filename.'.format(suffix))\n",
    "    with open(source_file, \"rb\") as image_file:\n",
    "        encoded_python = base64.b64encode(image_file.read()).decode('ascii')\n",
    "    ext = os.path.splitext(source_file)[-1].lower()\n",
    "    if ext not in ['.ipynb','.py']: raise Exception(\"Source file is {} must be .py or .ipynb\".format(ext))\n",
    "    r = requests.post(\"https://api.heatonresearch.com/assignment-submit\",\n",
    "        headers={'x-api-key':key}, json={'csv':base64.b64encode(data.to_csv(index=False).encode('ascii')).decode(\"ascii\"),\n",
    "        'assignment': no, 'ext':ext, 'py':encoded_python})\n",
    "    if r.status_code == 200:\n",
    "        print(\"Success: {}\".format(r.text))\n",
    "    else: print(\"Failure: {}\".format(r.text))"
   ]
  },
  {
   "cell_type": "code",
   "execution_count": 3,
   "metadata": {},
   "outputs": [
    {
     "name": "stdout",
     "output_type": "stream",
     "text": [
      "Running with OOSDF\n"
     ]
    }
   ],
   "source": [
    "#Import Libs\n",
    "import os\n",
    "import pandas as pd\n",
    "from scipy.stats import zscore\n",
    "from tensorflow.keras.models import Sequential\n",
    "from tensorflow.keras.layers import Dense, Activation, Dropout\n",
    "import pandas as pd\n",
    "import io\n",
    "import requests\n",
    "import numpy as np\n",
    "from sklearn import metrics\n",
    "from sklearn.model_selection import KFold\n",
    "from IPython.display import display, HTML, display_html, Markdown\n",
    "from tensorflow.keras.callbacks import EarlyStopping, ModelCheckpoint\n",
    "from scipy.stats import zscore\n",
    "\n",
    "if Answer == 'Yes':\n",
    "    print('Running with OOSDF')\n",
    "    \n",
    "else:\n",
    "    print('Running without OOSDF')"
   ]
  },
  {
   "cell_type": "code",
   "execution_count": 4,
   "metadata": {},
   "outputs": [
    {
     "data": {
      "text/markdown": [
       "<span style=\"color:black;font-size:15px\"> **Import**</span>"
      ],
      "text/plain": [
       "<IPython.core.display.Markdown object>"
      ]
     },
     "metadata": {},
     "output_type": "display_data"
    },
    {
     "data": {
      "text/html": [
       "<div>\n",
       "<style scoped>\n",
       "    .dataframe tbody tr th:only-of-type {\n",
       "        vertical-align: middle;\n",
       "    }\n",
       "\n",
       "    .dataframe tbody tr th {\n",
       "        vertical-align: top;\n",
       "    }\n",
       "\n",
       "    .dataframe thead th {\n",
       "        text-align: right;\n",
       "    }\n",
       "</style>\n",
       "<table border=\"1\" class=\"dataframe\">\n",
       "  <thead>\n",
       "    <tr style=\"text-align: right;\">\n",
       "      <th></th>\n",
       "      <th>id</th>\n",
       "      <th>convention</th>\n",
       "      <th>height</th>\n",
       "      <th>max</th>\n",
       "      <th>cat2</th>\n",
       "      <th>number</th>\n",
       "      <th>usage</th>\n",
       "      <th>region</th>\n",
       "      <th>length</th>\n",
       "      <th>code</th>\n",
       "      <th>power</th>\n",
       "      <th>item</th>\n",
       "      <th>weight</th>\n",
       "      <th>country</th>\n",
       "      <th>target</th>\n",
       "    </tr>\n",
       "  </thead>\n",
       "  <tbody>\n",
       "    <tr>\n",
       "      <th>0</th>\n",
       "      <td>1</td>\n",
       "      <td>CO-1A</td>\n",
       "      <td>4284.51</td>\n",
       "      <td>44907</td>\n",
       "      <td>CA-E</td>\n",
       "      <td>16669</td>\n",
       "      <td>US-7</td>\n",
       "      <td>RE-4</td>\n",
       "      <td>12471.1127</td>\n",
       "      <td>CO-B</td>\n",
       "      <td>27351.36</td>\n",
       "      <td>IT-17</td>\n",
       "      <td>13722</td>\n",
       "      <td>CO-1</td>\n",
       "      <td>44098.106769</td>\n",
       "    </tr>\n",
       "    <tr>\n",
       "      <th>1</th>\n",
       "      <td>2</td>\n",
       "      <td>CO-C</td>\n",
       "      <td>806.88</td>\n",
       "      <td>48831</td>\n",
       "      <td>CA-A</td>\n",
       "      <td>8652</td>\n",
       "      <td>US-20</td>\n",
       "      <td>RE-15</td>\n",
       "      <td>10035.7085</td>\n",
       "      <td>CO-E</td>\n",
       "      <td>42323.89</td>\n",
       "      <td>IT-1E</td>\n",
       "      <td>33779</td>\n",
       "      <td>CO-0</td>\n",
       "      <td>95567.294044</td>\n",
       "    </tr>\n",
       "    <tr>\n",
       "      <th>2</th>\n",
       "      <td>3</td>\n",
       "      <td>CO-19</td>\n",
       "      <td>2859.80</td>\n",
       "      <td>40760</td>\n",
       "      <td>CA-16</td>\n",
       "      <td>23103</td>\n",
       "      <td>US-17</td>\n",
       "      <td>RE-1D</td>\n",
       "      <td>14442.6566</td>\n",
       "      <td>CO-5</td>\n",
       "      <td>30660.91</td>\n",
       "      <td>IT-14</td>\n",
       "      <td>26633</td>\n",
       "      <td>CO-23</td>\n",
       "      <td>48583.507153</td>\n",
       "    </tr>\n",
       "    <tr>\n",
       "      <th>3</th>\n",
       "      <td>4</td>\n",
       "      <td>CO-2B</td>\n",
       "      <td>5823.87</td>\n",
       "      <td>33597</td>\n",
       "      <td>CA-9</td>\n",
       "      <td>17680</td>\n",
       "      <td>US-10</td>\n",
       "      <td>RE-1D</td>\n",
       "      <td>15121.4937</td>\n",
       "      <td>CO-B</td>\n",
       "      <td>59456.24</td>\n",
       "      <td>IT-8</td>\n",
       "      <td>14537</td>\n",
       "      <td>CO-11</td>\n",
       "      <td>130572.202064</td>\n",
       "    </tr>\n",
       "    <tr>\n",
       "      <th>4</th>\n",
       "      <td>5</td>\n",
       "      <td>CO-5</td>\n",
       "      <td>NaN</td>\n",
       "      <td>29848</td>\n",
       "      <td>CA-9</td>\n",
       "      <td>24136</td>\n",
       "      <td>US-21</td>\n",
       "      <td>RE-4</td>\n",
       "      <td>18093.9147</td>\n",
       "      <td>CO-4</td>\n",
       "      <td>46998.44</td>\n",
       "      <td>IT-5</td>\n",
       "      <td>21135</td>\n",
       "      <td>CO-1E</td>\n",
       "      <td>85768.812850</td>\n",
       "    </tr>\n",
       "  </tbody>\n",
       "</table>\n",
       "</div>"
      ],
      "text/plain": [
       "   id convention   height    max   cat2  number  usage region      length  \\\n",
       "0   1      CO-1A  4284.51  44907   CA-E   16669   US-7   RE-4  12471.1127   \n",
       "1   2       CO-C   806.88  48831   CA-A    8652  US-20  RE-15  10035.7085   \n",
       "2   3      CO-19  2859.80  40760  CA-16   23103  US-17  RE-1D  14442.6566   \n",
       "3   4      CO-2B  5823.87  33597   CA-9   17680  US-10  RE-1D  15121.4937   \n",
       "4   5       CO-5      NaN  29848   CA-9   24136  US-21   RE-4  18093.9147   \n",
       "\n",
       "   code     power   item  weight country         target  \n",
       "0  CO-B  27351.36  IT-17   13722    CO-1   44098.106769  \n",
       "1  CO-E  42323.89  IT-1E   33779    CO-0   95567.294044  \n",
       "2  CO-5  30660.91  IT-14   26633   CO-23   48583.507153  \n",
       "3  CO-B  59456.24   IT-8   14537   CO-11  130572.202064  \n",
       "4  CO-4  46998.44   IT-5   21135   CO-1E   85768.812850  "
      ]
     },
     "metadata": {},
     "output_type": "display_data"
    },
    {
     "data": {
      "text/markdown": [
       "<span style=\"color:black;font-size:15px\"> **Model from CSV Import**</span>"
      ],
      "text/plain": [
       "<IPython.core.display.Markdown object>"
      ]
     },
     "metadata": {},
     "output_type": "display_data"
    },
    {
     "data": {
      "text/plain": [
       "(10809, 2)"
      ]
     },
     "metadata": {},
     "output_type": "display_data"
    },
    {
     "data": {
      "text/plain": [
       "Index(['y', 'pred'], dtype='object')"
      ]
     },
     "metadata": {},
     "output_type": "display_data"
    },
    {
     "data": {
      "text/html": [
       "<div>\n",
       "<style scoped>\n",
       "    .dataframe tbody tr th:only-of-type {\n",
       "        vertical-align: middle;\n",
       "    }\n",
       "\n",
       "    .dataframe tbody tr th {\n",
       "        vertical-align: top;\n",
       "    }\n",
       "\n",
       "    .dataframe thead th {\n",
       "        text-align: right;\n",
       "    }\n",
       "</style>\n",
       "<table border=\"1\" class=\"dataframe\">\n",
       "  <thead>\n",
       "    <tr style=\"text-align: right;\">\n",
       "      <th></th>\n",
       "      <th>y</th>\n",
       "      <th>pred</th>\n",
       "    </tr>\n",
       "  </thead>\n",
       "  <tbody>\n",
       "    <tr>\n",
       "      <th>0</th>\n",
       "      <td>44098.106769</td>\n",
       "      <td>44080.312</td>\n",
       "    </tr>\n",
       "    <tr>\n",
       "      <th>1</th>\n",
       "      <td>130572.202064</td>\n",
       "      <td>130472.440</td>\n",
       "    </tr>\n",
       "    <tr>\n",
       "      <th>2</th>\n",
       "      <td>67926.242813</td>\n",
       "      <td>67547.000</td>\n",
       "    </tr>\n",
       "    <tr>\n",
       "      <th>3</th>\n",
       "      <td>64558.309366</td>\n",
       "      <td>64520.047</td>\n",
       "    </tr>\n",
       "    <tr>\n",
       "      <th>4</th>\n",
       "      <td>48666.213736</td>\n",
       "      <td>48268.867</td>\n",
       "    </tr>\n",
       "  </tbody>\n",
       "</table>\n",
       "</div>"
      ],
      "text/plain": [
       "               y        pred\n",
       "0   44098.106769   44080.312\n",
       "1  130572.202064  130472.440\n",
       "2   67926.242813   67547.000\n",
       "3   64558.309366   64520.047\n",
       "4   48666.213736   48268.867"
      ]
     },
     "metadata": {},
     "output_type": "display_data"
    },
    {
     "data": {
      "text/html": [
       "<div>\n",
       "<style scoped>\n",
       "    .dataframe tbody tr th:only-of-type {\n",
       "        vertical-align: middle;\n",
       "    }\n",
       "\n",
       "    .dataframe tbody tr th {\n",
       "        vertical-align: top;\n",
       "    }\n",
       "\n",
       "    .dataframe thead th {\n",
       "        text-align: right;\n",
       "    }\n",
       "</style>\n",
       "<table border=\"1\" class=\"dataframe\">\n",
       "  <thead>\n",
       "    <tr style=\"text-align: right;\">\n",
       "      <th></th>\n",
       "      <th>y</th>\n",
       "      <th>pred</th>\n",
       "    </tr>\n",
       "  </thead>\n",
       "  <tbody>\n",
       "    <tr>\n",
       "      <th>count</th>\n",
       "      <td>10809.000000</td>\n",
       "      <td>10809.000000</td>\n",
       "    </tr>\n",
       "    <tr>\n",
       "      <th>mean</th>\n",
       "      <td>89338.872653</td>\n",
       "      <td>89360.762609</td>\n",
       "    </tr>\n",
       "    <tr>\n",
       "      <th>std</th>\n",
       "      <td>37692.449571</td>\n",
       "      <td>37622.328655</td>\n",
       "    </tr>\n",
       "    <tr>\n",
       "      <th>min</th>\n",
       "      <td>-50194.241772</td>\n",
       "      <td>-32202.014000</td>\n",
       "    </tr>\n",
       "    <tr>\n",
       "      <th>25%</th>\n",
       "      <td>63668.960703</td>\n",
       "      <td>63614.547000</td>\n",
       "    </tr>\n",
       "    <tr>\n",
       "      <th>50%</th>\n",
       "      <td>89186.892747</td>\n",
       "      <td>89256.590000</td>\n",
       "    </tr>\n",
       "    <tr>\n",
       "      <th>75%</th>\n",
       "      <td>115138.736504</td>\n",
       "      <td>115078.445000</td>\n",
       "    </tr>\n",
       "    <tr>\n",
       "      <th>max</th>\n",
       "      <td>239516.024243</td>\n",
       "      <td>232187.340000</td>\n",
       "    </tr>\n",
       "  </tbody>\n",
       "</table>\n",
       "</div>"
      ],
      "text/plain": [
       "                   y           pred\n",
       "count   10809.000000   10809.000000\n",
       "mean    89338.872653   89360.762609\n",
       "std     37692.449571   37622.328655\n",
       "min    -50194.241772  -32202.014000\n",
       "25%     63668.960703   63614.547000\n",
       "50%     89186.892747   89256.590000\n",
       "75%    115138.736504  115078.445000\n",
       "max    239516.024243  232187.340000"
      ]
     },
     "metadata": {},
     "output_type": "display_data"
    },
    {
     "name": "stdout",
     "output_type": "stream",
     "text": [
      "<class 'pandas.core.frame.DataFrame'>\n",
      "RangeIndex: 10809 entries, 0 to 10808\n",
      "Data columns (total 2 columns):\n",
      "y       10809 non-null float64\n",
      "pred    10809 non-null float64\n",
      "dtypes: float64(2)\n",
      "memory usage: 169.0 KB\n"
     ]
    },
    {
     "data": {
      "text/plain": [
       "None"
      ]
     },
     "metadata": {},
     "output_type": "display_data"
    }
   ],
   "source": [
    "if Answer == 'Yes':\n",
    "    \n",
    "    #Import dataset\n",
    "    display((Markdown('<span style=\"color:black;font-size:15px\"> **' \n",
    "        + str('Import') + '**</span>')))\n",
    "    df_import = pd.read_csv(\"https://data.heatonresearch.com/data/t81-558/datasets/reg-33-data.csv\")\n",
    "    #Inspect dataset\n",
    "    display(df_import.head())\n",
    "    \n",
    "    #Import oosdf_import dataset\n",
    "    display((Markdown('<span style=\"color:black;font-size:15px\"> **' \n",
    "        + str('Model from CSV Import') + '**</span>')))\n",
    "    df_model = pd.read_csv('model.csv', header = 0, names = ['y', 'pred'])\n",
    "    display(df_model.shape)\n",
    "    display(df_model.columns)\n",
    "    display(df_model.head())\n",
    "    display(df_model.describe())\n",
    "    display(df_model.info())\n",
    "#     display((Markdown('<span style=\"color:black;font-size:15px\"> **' \n",
    "#         + str('Final Model') + '**</span>')))\n",
    "#     display(model.shape)\n",
    "#     display(model.columns)    \n",
    "#     display(model.head())\n",
    "#     display(model.describe())\n",
    "#     display(model.info())\n",
    "    \n",
    "else:\n",
    "    #Import dataset\n",
    "    df_import = pd.read_csv(\"https://data.heatonresearch.com/data/t81-558/datasets/reg-33-data.csv\")\n",
    "\n",
    "    #Inspect dataset\n",
    "    display(df_import.columns)\n",
    "    display(df_import.head())\n",
    "    \n",
    "#     df.columns = ['oostarget', 'oosprediction']"
   ]
  },
  {
   "cell_type": "markdown",
   "metadata": {},
   "source": [
    "### Data pre-processing\n",
    "- Normalize all numerics to z-scores and all text/categoricals to dummies. Do not normalize the target. Your target (y) is the field named target.\n",
    "- If you find any missing values (NA's), replace them with the median values for that column.\n",
    "- Seperate target and response variables"
   ]
  },
  {
   "cell_type": "code",
   "execution_count": null,
   "metadata": {},
   "outputs": [],
   "source": [
    "# Encode the feature vector\n",
    "ids = df_import['id']\n",
    "df_import.drop('id',1,inplace=True)\n",
    "\n",
    "#Fill missing height values with median\n",
    "df_import['height'] = df_import['height'].fillna(value = df_import['height'].median())\n",
    "\n",
    "#Fill missing max values with median\n",
    "df_import['max'] = df_import['max'].fillna(value = df_import['max'].median())\n",
    "\n",
    "#Fill missing number values with median\n",
    "df_import['number'] = df_import['number'].fillna(value = df_import['number'].median())\n",
    "\n",
    "#Fill missing length values with median\n",
    "df_import['length'] = df_import['length'].fillna(value = df_import['length'].median())\n",
    "\n",
    "#Fill missing power values with median\n",
    "df_import['power'] = df_import['power'].fillna(value = df_import['power'].median())\n",
    "\n",
    "#Fill missing weight values with median\n",
    "df_import['weight'] = df_import['weight'].fillna(value = df_import['weight'].median())\n",
    "\n",
    "# Generate dummies for convention\n",
    "df_import = pd.concat([df_import,pd.get_dummies(df_import['convention'],prefix=\"convention\")],axis=1)\n",
    "df_import.drop('convention', axis=1, inplace=True)\n",
    "\n",
    "# Standardize height\n",
    "df_import['height_standardized'] = zscore(df_import['height'])\n",
    "df_import.drop('height', axis=1, inplace=True)\n",
    "\n",
    "# Standardize max\n",
    "df_import['max_standardized'] = zscore(df_import['max'])\n",
    "df_import.drop('max', axis=1, inplace=True)\n",
    "\n",
    "# Generate dummies for cat2\n",
    "df_import = pd.concat([df_import,pd.get_dummies(df_import['cat2'],prefix=\"cat2\")],axis=1)\n",
    "df_import.drop('cat2', axis=1, inplace=True)\n",
    "\n",
    "# Standardize number\n",
    "df_import['number_standardized'] = zscore(df_import['number'])\n",
    "df_import.drop('number', axis=1, inplace=True)\n",
    "\n",
    "# Generate dummies for usage\n",
    "df_import = pd.concat([df_import,pd.get_dummies(df_import['usage'],prefix=\"usage\")],axis=1)\n",
    "df_import.drop('usage', axis=1, inplace=True)\n",
    "\n",
    "# Generate dummies for region\n",
    "df_import = pd.concat([df_import,pd.get_dummies(df_import['region'],prefix=\"region\")],axis=1)\n",
    "df_import.drop('region', axis=1, inplace=True)\n",
    "\n",
    "# Standardize length\n",
    "df_import['length_standardized'] = zscore(df_import['length'])\n",
    "df_import.drop('length', axis=1, inplace=True)\n",
    "\n",
    "# Generate dummies for code\n",
    "df_import = pd.concat([df_import,pd.get_dummies(df_import['code'],prefix=\"code\")],axis=1)\n",
    "df_import.drop('code', axis=1, inplace=True)\n",
    "\n",
    "# Standardize power\n",
    "df_import['power_standardized'] = zscore(df_import['power'])\n",
    "df_import.drop('power', axis=1, inplace=True)\n",
    "\n",
    "# Generate dummies for item\n",
    "df_import = pd.concat([df_import,pd.get_dummies(df_import['item'],prefix=\"item\")],axis=1)\n",
    "df_import.drop('item', axis=1, inplace=True)\n",
    "\n",
    "# Standardize weight\n",
    "df_import['weight_standardized'] = zscore(df_import['weight'])\n",
    "df_import.drop('weight', axis=1, inplace=True)\n",
    "\n",
    "# Generate dummies for country\n",
    "df_import = pd.concat([df_import,pd.get_dummies(df_import['country'],prefix=\"country\")],axis=1)\n",
    "df_import.drop('country', axis=1, inplace=True)\n",
    "\n",
    "#Inspect dataset\n",
    "df_import.head()"
   ]
  },
  {
   "cell_type": "code",
   "execution_count": null,
   "metadata": {},
   "outputs": [],
   "source": [
    "# Convert to numpy - Classification\n",
    "x_columns = df.columns.drop('target')\n",
    "x = df[x_columns].values\n",
    "y = df['target'].values"
   ]
  },
  {
   "cell_type": "markdown",
   "metadata": {},
   "source": [
    "### Model creation\n",
    "- Use a 5-fold cross-validation and return out of sample predictions. \n",
    "\n",
    "The code snippit below takes >30min to run as a heads up"
   ]
  },
  {
   "cell_type": "code",
   "execution_count": null,
   "metadata": {},
   "outputs": [],
   "source": [
    "kf = KFold(5, shuffle=True, random_state=42) # Use for KFold classification\n",
    "    \n",
    "oos_y = []\n",
    "oos_pred = []\n",
    "\n",
    "fold = 0\n",
    "for train, test in kf.split(x):\n",
    "    fold+=1\n",
    "    print(f\"Fold #{fold}\")\n",
    "        \n",
    "    x_train = x[train]\n",
    "    y_train = y[train]\n",
    "    x_test = x[test]\n",
    "    y_test = y[test]\n",
    "    \n",
    "    model = Sequential()\n",
    "    model.add(Dense(20, input_dim=x.shape[1], activation='relu'))\n",
    "    model.add(Dense(10, activation='relu'))\n",
    "    model.add(Dense(1))\n",
    "    model.compile(loss='mean_squared_error', optimizer='adam')\n",
    "    \n",
    "    model.fit(x_train,y_train,validation_data=(x_test,y_test),verbose=0,epochs=500)\n",
    "    \n",
    "    pred = model.predict(x_test)\n",
    "    \n",
    "    oos_y.append(y_test)\n",
    "    oos_pred.append(pred)    \n",
    "\n",
    "    # Measure this fold's RMSE\n",
    "    score = np.sqrt(metrics.mean_squared_error(pred,y_test))\n",
    "    print(f\"Fold score (RMSE): {score}\")\n",
    "\n",
    "# Build the oos prediction list and calculate the error.\n",
    "oos_y = np.concatenate(oos_y)\n",
    "oos_pred = np.concatenate(oos_pred)\n",
    "score = np.sqrt(metrics.mean_squared_error(oos_pred,oos_y))\n",
    "print(f\"Final, out of sample score (RMSE): {score}\")    \n",
    "    \n",
    "# Write the cross-validated prediction\n",
    "oos_y = pd.DataFrame(oos_y)\n",
    "oos_pred = pd.DataFrame(oos_pred)\n",
    "oosDF = pd.concat( [df, oos_y, oos_pred],axis=1 )"
   ]
  },
  {
   "cell_type": "code",
   "execution_count": null,
   "metadata": {},
   "outputs": [],
   "source": [
    "#Save the oosDF to csv so I dont need to run this again\n",
    "# oosDF.to_csv('oosdf.csv',index=False)"
   ]
  },
  {
   "cell_type": "code",
   "execution_count": null,
   "metadata": {},
   "outputs": [],
   "source": [
    "# model = pd.concat( [oos_y, oos_pred],axis=1 )\n",
    "# model.to_csv('model.csv',index=False)\n",
    "model.head()"
   ]
  },
  {
   "cell_type": "markdown",
   "metadata": {},
   "source": [
    "### Final Submission\n",
    "\n",
    "From the [assignment instructions]('https://github.com/jeffheaton/t81_558_deep_learning/blob/master/assignments/assignment_yourname_class5.ipynb'):\n",
    "\n",
    "_\"Your submission should contain the id (column name id), your prediction (column name pred\"), the expected value (from the reg-33-data.csv dataset, named y, and the absolute value of the difference between the expected and predicted (column name diff*).\"_"
   ]
  },
  {
   "cell_type": "code",
   "execution_count": 6,
   "metadata": {},
   "outputs": [
    {
     "name": "stdout",
     "output_type": "stream",
     "text": [
      "ID columns\n"
     ]
    },
    {
     "data": {
      "text/html": [
       "<div>\n",
       "<style scoped>\n",
       "    .dataframe tbody tr th:only-of-type {\n",
       "        vertical-align: middle;\n",
       "    }\n",
       "\n",
       "    .dataframe tbody tr th {\n",
       "        vertical-align: top;\n",
       "    }\n",
       "\n",
       "    .dataframe thead th {\n",
       "        text-align: right;\n",
       "    }\n",
       "</style>\n",
       "<table border=\"1\" class=\"dataframe\">\n",
       "  <thead>\n",
       "    <tr style=\"text-align: right;\">\n",
       "      <th></th>\n",
       "      <th>id</th>\n",
       "    </tr>\n",
       "  </thead>\n",
       "  <tbody>\n",
       "    <tr>\n",
       "      <th>0</th>\n",
       "      <td>1</td>\n",
       "    </tr>\n",
       "    <tr>\n",
       "      <th>1</th>\n",
       "      <td>2</td>\n",
       "    </tr>\n",
       "    <tr>\n",
       "      <th>2</th>\n",
       "      <td>3</td>\n",
       "    </tr>\n",
       "    <tr>\n",
       "      <th>3</th>\n",
       "      <td>4</td>\n",
       "    </tr>\n",
       "    <tr>\n",
       "      <th>4</th>\n",
       "      <td>5</td>\n",
       "    </tr>\n",
       "  </tbody>\n",
       "</table>\n",
       "</div>"
      ],
      "text/plain": [
       "   id\n",
       "0   1\n",
       "1   2\n",
       "2   3\n",
       "3   4\n",
       "4   5"
      ]
     },
     "metadata": {},
     "output_type": "display_data"
    },
    {
     "name": "stdout",
     "output_type": "stream",
     "text": [
      "Pred and y columns\n"
     ]
    },
    {
     "data": {
      "text/html": [
       "<div>\n",
       "<style scoped>\n",
       "    .dataframe tbody tr th:only-of-type {\n",
       "        vertical-align: middle;\n",
       "    }\n",
       "\n",
       "    .dataframe tbody tr th {\n",
       "        vertical-align: top;\n",
       "    }\n",
       "\n",
       "    .dataframe thead th {\n",
       "        text-align: right;\n",
       "    }\n",
       "</style>\n",
       "<table border=\"1\" class=\"dataframe\">\n",
       "  <thead>\n",
       "    <tr style=\"text-align: right;\">\n",
       "      <th></th>\n",
       "      <th>y</th>\n",
       "      <th>pred</th>\n",
       "    </tr>\n",
       "  </thead>\n",
       "  <tbody>\n",
       "    <tr>\n",
       "      <th>0</th>\n",
       "      <td>44098.106769</td>\n",
       "      <td>44080.312</td>\n",
       "    </tr>\n",
       "    <tr>\n",
       "      <th>1</th>\n",
       "      <td>130572.202064</td>\n",
       "      <td>130472.440</td>\n",
       "    </tr>\n",
       "    <tr>\n",
       "      <th>2</th>\n",
       "      <td>67926.242813</td>\n",
       "      <td>67547.000</td>\n",
       "    </tr>\n",
       "    <tr>\n",
       "      <th>3</th>\n",
       "      <td>64558.309366</td>\n",
       "      <td>64520.047</td>\n",
       "    </tr>\n",
       "    <tr>\n",
       "      <th>4</th>\n",
       "      <td>48666.213736</td>\n",
       "      <td>48268.867</td>\n",
       "    </tr>\n",
       "  </tbody>\n",
       "</table>\n",
       "</div>"
      ],
      "text/plain": [
       "               y        pred\n",
       "0   44098.106769   44080.312\n",
       "1  130572.202064  130472.440\n",
       "2   67926.242813   67547.000\n",
       "3   64558.309366   64520.047\n",
       "4   48666.213736   48268.867"
      ]
     },
     "metadata": {},
     "output_type": "display_data"
    },
    {
     "name": "stdout",
     "output_type": "stream",
     "text": [
      "Joining them\n"
     ]
    },
    {
     "data": {
      "text/html": [
       "<div>\n",
       "<style scoped>\n",
       "    .dataframe tbody tr th:only-of-type {\n",
       "        vertical-align: middle;\n",
       "    }\n",
       "\n",
       "    .dataframe tbody tr th {\n",
       "        vertical-align: top;\n",
       "    }\n",
       "\n",
       "    .dataframe thead th {\n",
       "        text-align: right;\n",
       "    }\n",
       "</style>\n",
       "<table border=\"1\" class=\"dataframe\">\n",
       "  <thead>\n",
       "    <tr style=\"text-align: right;\">\n",
       "      <th></th>\n",
       "      <th>id</th>\n",
       "      <th>y</th>\n",
       "      <th>pred</th>\n",
       "      <th>diff</th>\n",
       "    </tr>\n",
       "  </thead>\n",
       "  <tbody>\n",
       "    <tr>\n",
       "      <th>0</th>\n",
       "      <td>1</td>\n",
       "      <td>44098.106769</td>\n",
       "      <td>44080.312</td>\n",
       "      <td>17.794769</td>\n",
       "    </tr>\n",
       "    <tr>\n",
       "      <th>1</th>\n",
       "      <td>2</td>\n",
       "      <td>130572.202064</td>\n",
       "      <td>130472.440</td>\n",
       "      <td>99.762064</td>\n",
       "    </tr>\n",
       "    <tr>\n",
       "      <th>2</th>\n",
       "      <td>3</td>\n",
       "      <td>67926.242813</td>\n",
       "      <td>67547.000</td>\n",
       "      <td>379.242813</td>\n",
       "    </tr>\n",
       "    <tr>\n",
       "      <th>3</th>\n",
       "      <td>4</td>\n",
       "      <td>64558.309366</td>\n",
       "      <td>64520.047</td>\n",
       "      <td>38.262366</td>\n",
       "    </tr>\n",
       "    <tr>\n",
       "      <th>4</th>\n",
       "      <td>5</td>\n",
       "      <td>48666.213736</td>\n",
       "      <td>48268.867</td>\n",
       "      <td>397.346736</td>\n",
       "    </tr>\n",
       "  </tbody>\n",
       "</table>\n",
       "</div>"
      ],
      "text/plain": [
       "   id              y        pred        diff\n",
       "0   1   44098.106769   44080.312   17.794769\n",
       "1   2  130572.202064  130472.440   99.762064\n",
       "2   3   67926.242813   67547.000  379.242813\n",
       "3   4   64558.309366   64520.047   38.262366\n",
       "4   5   48666.213736   48268.867  397.346736"
      ]
     },
     "metadata": {},
     "output_type": "display_data"
    }
   ],
   "source": [
    "#Extract ids\n",
    "print(\"ID columns\")\n",
    "df_ids = df_import['id'].to_frame()\n",
    "display(df_ids.head())\n",
    "\n",
    "#Extract y and oosprededict\n",
    "print(\"Pred and y columns\")\n",
    "display(df_model.head())\n",
    "\n",
    "#Create final submission by joining the df_ids and df_model dataset\n",
    "print(\"Joining them\")\n",
    "df_final_submission = df_ids.join(df_model)\n",
    "\n",
    "df_final_submission['diff'] = abs(df_final_submission['y']- df_final_submission['pred'])\n",
    "display(df_final_submission.head())\n",
    "\n",
    "\n",
    "#Need to move the column names\n"
   ]
  },
  {
   "cell_type": "code",
   "execution_count": 7,
   "metadata": {},
   "outputs": [
    {
     "name": "stdout",
     "output_type": "stream",
     "text": [
      "Success: Submitted Assignment #5 for adrian:\n",
      "This is your first submission of this assignment.\n",
      "No warnings on your data. You will probably do well, but no guarantee. :-)\n",
      "\n"
     ]
    }
   ],
   "source": [
    "#Submitting Assignment\n",
    "\n",
    "# This is your student key that I emailed to you at the beginnning of the semester.\n",
    "key = \"\"  # This is an example key and will not work.\n",
    "\n",
    "# You must also identify your source file.  (modify for your local setup)\n",
    "# file='/content/drive/My Drive/Colab Notebooks/assignment_yourname_class5.ipynb'  # Google CoLab\n",
    "# file='C:\\\\Users\\\\jeffh\\\\projects\\\\t81_558_deep_learning\\\\assignments\\\\assignment_yourname_class5.ipynb'  # Windows\n",
    "file ='/Users/adrianlechter/assignment_alechter_class5.ipynb'  # Mac/Linux\n",
    "\n",
    "# os.chdir(file)\n",
    "\n",
    "oosDF = df_final_submission\n",
    "\n",
    "# # Begin assignment\n",
    "df_import = pd.read_csv(\"https://data.heatonresearch.com/data/t81-558/datasets/reg-33-data.csv\")\n",
    "\n",
    "# # Continue here\n",
    "\n",
    "submit(source_file=file,data=oosDF,key=key,no=5)"
   ]
  },
  {
   "cell_type": "markdown",
   "metadata": {},
   "source": [
    "### Checking Submission"
   ]
  },
  {
   "cell_type": "code",
   "execution_count": 8,
   "metadata": {},
   "outputs": [],
   "source": [
    "\n",
    "import pandas as pd\n",
    "import base64\n",
    "import os\n",
    "\n",
    "def list_submits(key):\n",
    "    r = requests.post(\"https://api.heatonresearch.com/assignment-submit\",\n",
    "                      headers={'x-api-key': key},\n",
    "                      json={})\n",
    "    if r.status_code == 200:\n",
    "        print(\"Success: \\n{}\".format(r.text))\n",
    "    else:\n",
    "        print(\"Failure: {}\".format(r.text))\n",
    "\n",
    "def display_submit(key,no):\n",
    "    r = requests.post(\"https://api.heatonresearch.com/assignment-submit\",\n",
    "                      headers={'x-api-key': key},\n",
    "                      json={'assignment':no})\n",
    "    if r.status_code == 200:\n",
    "        print(\"Success: \\n{}\".format(r.text))\n",
    "    else:\n",
    "        print(\"Failure: {}\".format(r.text))"
   ]
  },
  {
   "cell_type": "code",
   "execution_count": 10,
   "metadata": {},
   "outputs": [
    {
     "name": "stdout",
     "output_type": "stream",
     "text": [
      "Success: \n",
      "Assignment #5: Submitted 1 times, last on: 2020-01-10T21:08:52.507Z\n",
      "\n"
     ]
    },
    {
     "data": {
      "text/plain": [
       "None"
      ]
     },
     "metadata": {},
     "output_type": "display_data"
    },
    {
     "name": "stdout",
     "output_type": "stream",
     "text": [
      "Success: \n",
      "Assignment #5: Submitted 1 times, last on: 2020-01-10T21:08:52.507Z\n",
      "*** Check ***\n",
      "No warnings on your data. You will probably do well, but no guarantee. :-)\n",
      "\n"
     ]
    },
    {
     "data": {
      "text/plain": [
       "None"
      ]
     },
     "metadata": {},
     "output_type": "display_data"
    }
   ],
   "source": [
    "# Show a listing of all submitted assignments.\n",
    "key = \"\"\n",
    "display(list_submits(key))\n",
    "\n",
    "# Show one assignment, by number.\n",
    "display(display_submit(key,5))"
   ]
  }
 ],
 "metadata": {
  "kernelspec": {
   "display_name": "Python 3.7 (tensorflow)",
   "language": "python",
   "name": "tensorflow"
  },
  "language_info": {
   "codemirror_mode": {
    "name": "ipython",
    "version": 3
   },
   "file_extension": ".py",
   "mimetype": "text/x-python",
   "name": "python",
   "nbconvert_exporter": "python",
   "pygments_lexer": "ipython3",
   "version": "3.7.5"
  }
 },
 "nbformat": 4,
 "nbformat_minor": 2
}
